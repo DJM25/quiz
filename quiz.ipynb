{
 "cells": [
  {
   "cell_type": "markdown",
   "metadata": {},
   "source": [
    "# Build a quiz - Part 2"
   ]
  },
  {
   "cell_type": "markdown",
   "metadata": {},
   "source": [
    "Below is the code we wrote yesterday, that asks three questions to the user and allows up to 3 wrong answers :"
   ]
  },
  {
   "cell_type": "code",
   "execution_count": null,
   "metadata": {},
   "outputs": [],
   "source": [
    "nb_de_chances = 3\n",
    "\n",
    "print(\"Voici notre quiz, tu as trois chances !\")\n",
    "\n",
    "if nb_de_chances > 0:\n",
    "    question1= input(\"Combien de fois la France a gagné la coupe du monde ? \")\n",
    "    while question1 != \"2\":\n",
    "        nb_de_chances -= 1\n",
    "        print(\"Dommage ! Il te reste {} chances\".format(nb_de_chances))\n",
    "        if nb_de_chances == 0:\n",
    "            print(\"Oh non ! Tu as perdu le jeu...\")\n",
    "            break\n",
    "        question1 = input(\"Combien de fois la France a gagné la coupe du monde ? \")\n",
    "\n",
    "if nb_de_chances > 0:\n",
    "    question2 = input(\"Quand a été fondé Apple ? \")\n",
    "    while question2 != \"1976\":\n",
    "        nb_de_chances -=1\n",
    "        print(\"Dommage ! Il te reste {} chances\".format(nb_de_chances))\n",
    "        if nb_de_chances == 0:\n",
    "            print(\"Oh non ! Tu as perdu le jeu...\")\n",
    "            break\n",
    "        question2 = input(\"Quand a été fondé Apple ? \")\n",
    "\n",
    "\n",
    "if nb_de_chances > 0:\n",
    "    question3 = input(\"Qui a fondé SpaceX ? \")\n",
    "    question3 = question3.lower()\n",
    "    while question3 != \"elon musk\":\n",
    "        nb_de_chances -=1\n",
    "        print(\"Dommage ! Il te reste {} chances\".format(nb_de_chances))\n",
    "        if nb_de_chances == 0:\n",
    "            print(\"Oh non ! Tu as perdu le jeu...\")\n",
    "            break\n",
    "        question3 = input(\"Qui a fondé SpaceX ? \")\n",
    "        question3 = question3.lower()\n",
    "\n",
    "if nb_de_chances > 0:\n",
    "    print(\"Bravo ! Tu as gagné le quiz !\")\n"
   ]
  },
  {
   "cell_type": "markdown",
   "metadata": {},
   "source": [
    "Let's refactor our quiz now that we know how to be dry.\n",
    "\n",
    "SPECs: \n",
    "\n",
    "* Your code should be DRY \n",
    "* You should use functions "
   ]
  },
  {
   "cell_type": "code",
   "execution_count": 7,
   "metadata": {},
   "outputs": [],
   "source": [
    "class Quiz():\n",
    "    def __init__(self,questions,nbressai):\n",
    "        self.questions=questions\n",
    "        self.nbressai=nbressai\n",
    "        self.chances=0\n",
    "    def run(self):\n",
    "        print(\"Voici notre quiz, tu as {} chances !\".format(self.nbressai))\n",
    "        for self.ask in self.questions:\n",
    "            if self.chances < self.nbressai:\n",
    "                self.cdm = input(self.ask)\n",
    "                while str(self.cdm) != str(self.questions[self.ask]):\n",
    "                    self.chances += 1\n",
    "                    if self.chances < self.nbressai:\n",
    "                        self.cdm = input(\"Dommage ! Il te reste {} chances\\n\".format(self.nbressai-self.chances))\n",
    "                    else:\n",
    "                        break\n",
    "        if self.chances >= self.nbressai:\n",
    "            print(\"Oh non ! Tu as perdu le jeu...\")\n",
    "        else:\n",
    "            print(\"Bravo ! Tu as gagné le quiz !\")\n",
    "    "
   ]
  },
  {
   "cell_type": "code",
   "execution_count": 9,
   "metadata": {},
   "outputs": [
    {
     "name": "stdout",
     "output_type": "stream",
     "text": [
      "Voici notre quiz, tu as 3 chances !\n"
     ]
    },
    {
     "name": "stdin",
     "output_type": "stream",
     "text": [
      "Combien de fois la France a gagné la coupe du monde ? 2\n",
      "Quand a été fondé Apple ? 1976\n",
      "Qui a fondé SpaceX ? Elon Musk\n"
     ]
    },
    {
     "name": "stdout",
     "output_type": "stream",
     "text": [
      "0 3\n",
      "Bravo ! Tu as gagné le quiz !\n"
     ]
    }
   ],
   "source": [
    "question={'Combien de fois la France a gagné la coupe du monde ?': '2',\n",
    "          'Quand a été fondé Apple ?': '1976',\n",
    "          'Qui a fondé SpaceX ?': 'Elon Musk'}\n",
    "q=Quiz(question,3)\n",
    "q.run()"
   ]
  },
  {
   "cell_type": "code",
   "execution_count": 54,
   "metadata": {},
   "outputs": [],
   "source": [
    "class MyError(Exception):\n",
    "    def __init__(self, value):\n",
    "        self.value = value\n",
    "    def __str__(self):\n",
    "        return repr(self.value)\n",
    "    \n",
    "def quiz(questions,nbressai):\n",
    "    try:\n",
    "        int(nbressai)\n",
    "        if nbressai < 1:\n",
    "            raise MyError(\"Le nombre d'essai doit être supérieur à 0\")\n",
    "        print(\"Voici notre quiz, tu as {} chances !\".format(nbressai))\n",
    "        chances=0\n",
    "        for question in questions:\n",
    "            if chances < nbressai:\n",
    "                cdm = input(question)\n",
    "                while str(cdm) != str(questions[question]):\n",
    "                    chances += 1\n",
    "                    if chances < nbressai:\n",
    "                        cdm = input(\"Dommage ! Il te reste {} chances\\n\".format(nbressai-chances))\n",
    "                    else:\n",
    "                        break\n",
    "    except ValueError:\n",
    "        print(\"ERREUR, Message : Le nombre d'essai doit être un entier supérieur à 0\")\n",
    "    except MyError as exc:\n",
    "        print(\"ERREUR, Message :\", exc)\n",
    "    else:\n",
    "        if chances >= nbressai:\n",
    "            print(\"Oh non ! Tu as perdu le jeu...\")\n",
    "        else:\n",
    "            print(\"Bravo ! Tu as gagné le quiz !\")"
   ]
  },
  {
   "cell_type": "code",
   "execution_count": 56,
   "metadata": {},
   "outputs": [
    {
     "name": "stdout",
     "output_type": "stream",
     "text": [
      "ERREUR, Message : Le nombre d'essai doit être un entier supérieur à 0\n"
     ]
    }
   ],
   "source": [
    "question={'Combien de fois la France a gagné la coupe du monde ?': '2',\n",
    "          'Quand a été fondé Apple ?': '1976',\n",
    "          'Qui a fondé SpaceX ?': 'Elon Musk'}\n",
    "quiz(question,3)"
   ]
  },
  {
   "cell_type": "code",
   "execution_count": null,
   "metadata": {},
   "outputs": [],
   "source": []
  }
 ],
 "metadata": {
  "kernelspec": {
   "display_name": "Python 3",
   "language": "python",
   "name": "python3"
  },
  "language_info": {
   "codemirror_mode": {
    "name": "ipython",
    "version": 3
   },
   "file_extension": ".py",
   "mimetype": "text/x-python",
   "name": "python",
   "nbconvert_exporter": "python",
   "pygments_lexer": "ipython3",
   "version": "3.8.5"
  }
 },
 "nbformat": 4,
 "nbformat_minor": 4
}
