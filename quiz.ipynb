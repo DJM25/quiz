{
 "cells": [
  {
   "cell_type": "markdown",
   "metadata": {},
   "source": [
    "# Build a quiz"
   ]
  },
  {
   "cell_type": "markdown",
   "metadata": {},
   "source": [
    "Let's refactor our quiz now that we know how to be dry.\n",
    "\n",
    "SPECs: \n",
    "\n",
    "* Your code should be DRY \n",
    "* You should use functions "
   ]
  },
  {
   "cell_type": "markdown",
   "metadata": {},
   "source": [
    "### Sous forme de Class"
   ]
  },
  {
   "cell_type": "code",
   "execution_count": 7,
   "metadata": {},
   "outputs": [],
   "source": [
    "class Quiz():\n",
    "    def __init__(self,questions,nbressai):\n",
    "        self.questions=questions\n",
    "        self.nbressai=nbressai\n",
    "        self.chances=0\n",
    "    def run(self):\n",
    "        print(\"Voici notre quiz, tu as {} chances !\".format(self.nbressai))\n",
    "        for self.ask in self.questions:\n",
    "            if self.chances < self.nbressai:\n",
    "                self.cdm = input(self.ask)\n",
    "                while str(self.cdm) != str(self.questions[self.ask]):\n",
    "                    self.chances += 1\n",
    "                    if self.chances < self.nbressai:\n",
    "                        self.cdm = input(\"Dommage ! Il te reste {} chances\\n\".format(self.nbressai-self.chances))\n",
    "                    else:\n",
    "                        break\n",
    "        if self.chances >= self.nbressai:\n",
    "            print(\"Oh non ! Tu as perdu le jeu...\")\n",
    "        else:\n",
    "            print(\"Bravo ! Tu as gagné le quiz !\")\n",
    "    "
   ]
  },
  {
   "cell_type": "markdown",
   "metadata": {},
   "source": [
    "### Test de la Class"
   ]
  },
  {
   "cell_type": "code",
   "execution_count": 9,
   "metadata": {},
   "outputs": [
    {
     "name": "stdout",
     "output_type": "stream",
     "text": [
      "Voici notre quiz, tu as 3 chances !\n"
     ]
    },
    {
     "name": "stdin",
     "output_type": "stream",
     "text": [
      "Combien de fois la France a gagné la coupe du monde ? 2\n",
      "Quand a été fondé Apple ? 1976\n",
      "Qui a fondé SpaceX ? Elon Musk\n"
     ]
    },
    {
     "name": "stdout",
     "output_type": "stream",
     "text": [
      "0 3\n",
      "Bravo ! Tu as gagné le quiz !\n"
     ]
    }
   ],
   "source": [
    "question={'Combien de fois la France a gagné la coupe du monde ?': '2',\n",
    "          'Quand a été fondé Apple ?': '1976',\n",
    "          'Qui a fondé SpaceX ?': 'Elon Musk'}\n",
    "q=Quiz(question,3)\n",
    "q.run()"
   ]
  },
  {
   "cell_type": "markdown",
   "metadata": {},
   "source": [
    "### Sous forme de fonction"
   ]
  },
  {
   "cell_type": "code",
   "execution_count": 1,
   "metadata": {},
   "outputs": [],
   "source": [
    "class MyError(Exception):\n",
    "    def __init__(self, value):\n",
    "        self.value = value\n",
    "    def __str__(self):\n",
    "        return repr(self.value)\n",
    "    \n",
    "def quiz(questions,nbressai):\n",
    "    try:\n",
    "        int(nbressai)\n",
    "        if nbressai < 1:\n",
    "            raise MyError(\"Le nombre d'essai doit être supérieur à 0\")\n",
    "        print(\"Voici notre quiz, tu as {} chances !\".format(nbressai))\n",
    "        chances=0\n",
    "        for question in questions:\n",
    "            if chances < nbressai:\n",
    "                cdm = input(question)\n",
    "                while str(cdm) != str(questions[question]):\n",
    "                    chances += 1\n",
    "                    if chances < nbressai:\n",
    "                        cdm = input(\"Dommage ! Il te reste {} chances\\n\".format(nbressai-chances))\n",
    "                    else:\n",
    "                        break\n",
    "    except ValueError:\n",
    "        print(\"ERREUR, Message : Le nombre d'essai doit être un entier supérieur à 0\")\n",
    "    except MyError as exc:\n",
    "        print(\"ERREUR, Message :\", exc)\n",
    "    else:\n",
    "        if chances >= nbressai:\n",
    "            print(\"Oh non ! Tu as perdu le jeu...\")\n",
    "        else:\n",
    "            print(\"Bravo ! Tu as gagné le quiz !\")"
   ]
  },
  {
   "cell_type": "markdown",
   "metadata": {},
   "source": [
    "### Test de la fonction"
   ]
  },
  {
   "cell_type": "code",
   "execution_count": 56,
   "metadata": {},
   "outputs": [
    {
     "name": "stdout",
     "output_type": "stream",
     "text": [
      "ERREUR, Message : Le nombre d'essai doit être un entier supérieur à 0\n"
     ]
    }
   ],
   "source": [
    "question={'Combien de fois la France a gagné la coupe du monde ?': '2',\n",
    "          'Quand a été fondé Apple ?': '1976',\n",
    "          'Qui a fondé SpaceX ?': 'Elon Musk'}\n",
    "quiz(question,3)"
   ]
  },
  {
   "cell_type": "markdown",
   "metadata": {},
   "source": [
    "### Création de questions avec API Star Wars"
   ]
  },
  {
   "cell_type": "code",
   "execution_count": 3,
   "metadata": {},
   "outputs": [],
   "source": [
    "import requests\n",
    "request = requests.get(\"https://swapi.dev/api/people\")\n",
    "dic = request.json()"
   ]
  },
  {
   "cell_type": "code",
   "execution_count": null,
   "metadata": {},
   "outputs": [],
   "source": [
    "dicsw={}\n",
    "for people in dic[\"results\"]:\n",
    "    dicsw[\"Quelle est la taille de {}\".format(people[\"name\"])] = people[\"height\"]\n",
    "    dicsw[\"Quelle est l'année de naissance de {}\".format(people[\"name\"])] = people[\"birth_year\"]\n",
    "    dicsw[\"Quelle est la couleur des yeux de {}\".format(people[\"name\"])] = people[\"eye_color\"]\n",
    "    dicsw[\"Quelle est la couleur des cheveux de {}\".format(people[\"name\"])] = people[\"skin_color\"]"
   ]
  },
  {
   "cell_type": "markdown",
   "metadata": {},
   "source": [
    "### Fonction pour extraire x questions"
   ]
  },
  {
   "cell_type": "code",
   "execution_count": 35,
   "metadata": {},
   "outputs": [],
   "source": [
    "def extrairequestions(lquestions,nbrquestion):\n",
    "    questionsselected={}\n",
    "    for i in range(0,nbrquestion):\n",
    "        rdquestion=random.randint(0,len(lquestions))\n",
    "        cpt=0\n",
    "        for k, v in lquestions.items():\n",
    "            if cpt == rdquestion:\n",
    "                #print(\"N°{} est choisi c'est {} avec la réponse {}\".format(rdquestion, k,v))\n",
    "                questionsselected[k]=v\n",
    "            cpt+=1\n",
    "    return questionsselected"
   ]
  },
  {
   "cell_type": "markdown",
   "metadata": {},
   "source": [
    "### Test du quiz de la mort"
   ]
  },
  {
   "cell_type": "code",
   "execution_count": null,
   "metadata": {},
   "outputs": [
    {
     "name": "stdout",
     "output_type": "stream",
     "text": [
      "Voici notre quiz, tu as 3 chances !\n"
     ]
    }
   ],
   "source": [
    "quiz(extrairequestions(dicsw,3),3)"
   ]
  },
  {
   "cell_type": "code",
   "execution_count": null,
   "metadata": {},
   "outputs": [],
   "source": []
  }
 ],
 "metadata": {
  "kernelspec": {
   "display_name": "Python 3",
   "language": "python",
   "name": "python3"
  },
  "language_info": {
   "codemirror_mode": {
    "name": "ipython",
    "version": 3
   },
   "file_extension": ".py",
   "mimetype": "text/x-python",
   "name": "python",
   "nbconvert_exporter": "python",
   "pygments_lexer": "ipython3",
   "version": "3.8.5"
  }
 },
 "nbformat": 4,
 "nbformat_minor": 4
}
